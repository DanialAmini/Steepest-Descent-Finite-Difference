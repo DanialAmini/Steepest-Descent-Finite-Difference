{
 "cells": [
  {
   "cell_type": "code",
   "execution_count": 1,
   "id": "0fa5ae1f",
   "metadata": {},
   "outputs": [],
   "source": [
    "%reset -f\n"
   ]
  },
  {
   "cell_type": "code",
   "execution_count": 5,
   "id": "bb340107",
   "metadata": {},
   "outputs": [],
   "source": [
    "import numpy as np\n",
    "import pandas as pd\n",
    "import matplotlib.pyplot as plt\n",
    "import scipy.optimize\n"
   ]
  },
  {
   "cell_type": "code",
   "execution_count": 44,
   "id": "dee4ea21",
   "metadata": {},
   "outputs": [
    {
     "data": {
      "text/plain": [
       "[<matplotlib.lines.Line2D at 0x267d4fe1d48>]"
      ]
     },
     "execution_count": 44,
     "metadata": {},
     "output_type": "execute_result"
    },
    {
     "data": {
      "image/png": "[encoded data removed]",
      "text/plain": [
       "<Figure size 432x288 with 1 Axes>"
      ]
     },
     "metadata": {
      "needs_background": "light"
     },
     "output_type": "display_data"
    }
   ],
   "source": [
    "Nx=1000\n",
    "\n",
    "x=np.arange(Nx)/Nx\n",
    "y=0.2+x+0.1*x*x/2-0.4*np.abs(x-0.5)+0.2*np.heaviside(x-0.3,0)-0.3*np.minimum(x,0.7)\n",
    "\n",
    "\n",
    "\n",
    "\n",
    "def func_test(b,x,b_off):\n",
    "    b=b*b_off\n",
    "    y=b[0]+b[1]*x+b[2]*x*x+b[3]*np.abs(x-0.51)+b[4]*np.heaviside(x-0.31,0)+b[5]*np.minimum(x,0.71)\n",
    "    return y\n",
    "\n",
    "def func_optimize(b,x,y,b_off):\n",
    "    yhat=func_test(b,x,b_off)\n",
    "    return np.mean((y-yhat)*(y-yhat))\n",
    "\n",
    "\n",
    "\n",
    "Nv=5+1\n",
    "b=np.random.rand(Nv)\n",
    "b_off=np.ones(Nv)\n",
    "\n",
    "#display(pd.DataFrame(func_test(b,x,b_off)))\n",
    "#print(func_optimize(b,x,y,b_off))\n",
    "\n",
    "optimize1=scipy.optimize.minimize(func_optimize,b,args=(x,y,b_off))\n",
    "b=optimize1.x\n",
    "\n",
    "yhat=func_test(b,x,b_off)\n",
    "\n",
    "plt.scatter(x,y,s=1)\n",
    "plt.plot(x,yhat,'k')\n",
    "\n"
   ]
  },
  {
   "cell_type": "code",
   "execution_count": 96,
   "id": "f34ddc5d",
   "metadata": {},
   "outputs": [
    {
     "name": "stdout",
     "output_type": "stream",
     "text": [
      "[0. 1. 2. 3. 1. 2. 1. 2. 2. 2. 3. 4. 4. 2. 4. 4. 5. 2. 3. 4. 4. 5. 5. 6.]\n",
      "[[0. 0. 0. 0. 0. 0.]\n",
      " [0. 0. 0. 0. 1. 0.]\n",
      " [0. 0. 1. 0. 0. 0.]\n",
      " [0. 1. 0. 0. 0. 0.]\n",
      " [0. 0. 0. 1. 1. 0.]\n",
      " [0. 0. 1. 0. 0. 1.]\n",
      " [0. 1. 0. 0. 0. 1.]\n",
      " [0. 1. 0. 0. 1. 0.]\n",
      " [0. 1. 0. 1. 0. 0.]\n",
      " [1. 0. 1. 0. 0. 0.]\n",
      " [1. 1. 0. 0. 0. 0.]\n",
      " [0. 0. 0. 1. 1. 1.]\n",
      " [0. 1. 1. 0. 0. 1.]\n",
      " [1. 1. 0. 0. 1. 0.]\n",
      " [1. 1. 0. 1. 1. 0.]\n",
      " [1. 1. 0. 0. 1. 1.]\n",
      " [0. 1. 1. 1. 0. 1.]\n",
      " [1. 0. 1. 1. 0. 1.]\n",
      " [1. 0. 1. 0. 1. 1.]\n",
      " [1. 0. 0. 1. 1. 1.]\n",
      " [1. 1. 1. 0. 1. 1.]\n",
      " [1. 1. 0. 1. 1. 1.]\n",
      " [1. 0. 1. 1. 1. 1.]\n",
      " [1. 1. 1. 1. 1. 1.]]\n",
      "(24, 6)\n"
     ]
    }
   ],
   "source": [
    "N_permut=30\n",
    "b_mat=np.zeros((N_permut,Nv))\n",
    "\n",
    "for i in range(N_permut-10):\n",
    "    j=np.random.randint(Nv)\n",
    "    ind=np.random.choice(np.arange(Nv),j)\n",
    "    b=b_mat[i,:]\n",
    "    b[ind]=1\n",
    "    b_mat[i,:]=b\n",
    "\n",
    "for i in range(N_permut-10,N_permut):\n",
    "    j=Nv\n",
    "    ind=np.random.choice(np.arange(Nv),j)\n",
    "    b=b_mat[i,:]\n",
    "    b[ind]=1\n",
    "    b_mat[i,:]=b\n",
    "\n",
    "b_mat[N_permut-1,:]=np.ones(Nv)\n",
    "    \n",
    "b_mat=np.unique(b_mat,axis=0)\n",
    "size_=np.sum(b_mat,axis=1)\n",
    "ind=np.argsort(size_)\n",
    "b_mat=b_mat[ind]\n",
    "\n",
    "size_=np.sum(b_mat,axis=1)\n",
    "#display(pd.DataFrame(b_mat))\n",
    "print(size_)\n",
    "print(b_mat)\n",
    "print(b_mat.shape)\n",
    "N_permut=len(b_mat)"
   ]
  },
  {
   "cell_type": "code",
   "execution_count": 97,
   "id": "db6f44ba",
   "metadata": {},
   "outputs": [
    {
     "data": {
      "text/plain": [
       "range(2, 5)"
      ]
     },
     "execution_count": 97,
     "metadata": {},
     "output_type": "execute_result"
    }
   ],
   "source": [
    "range(2,5)"
   ]
  },
  {
   "cell_type": "code",
   "execution_count": 98,
   "id": "8ceb8cb4",
   "metadata": {},
   "outputs": [
    {
     "data": {
      "text/plain": [
       "array([2, 1, 0])"
      ]
     },
     "execution_count": 98,
     "metadata": {},
     "output_type": "execute_result"
    }
   ],
   "source": [
    "np.random.choice(np.arange(5),3)"
   ]
  },
  {
   "cell_type": "code",
   "execution_count": 99,
   "id": "51faef09",
   "metadata": {},
   "outputs": [],
   "source": [
    "mse_vec=np.zeros(N_permut)\n",
    "\n",
    "for i in range(N_permut):\n",
    "\n",
    "\n",
    "    b=np.random.rand(Nv)\n",
    "    b_off=b_mat[i,:]\n",
    "\n",
    "    optimize1=scipy.optimize.minimize(func_optimize,b,args=(x,y,b_off))\n",
    "    b=optimize1.x\n",
    "\n",
    "    yhat=func_test(b,x,b_off)\n",
    "    mse_vec[i]=func_optimize(b,x,y,b_off)\n",
    "    \n",
    "\n",
    "\n",
    "\n"
   ]
  },
  {
   "cell_type": "code",
   "execution_count": 100,
   "id": "f13f0a51",
   "metadata": {},
   "outputs": [
    {
     "data": {
      "text/plain": [
       "array([4.87042694e-01, 2.53284670e-02, 6.69214033e-02, 1.00797797e-02,\n",
       "       1.29871426e-02, 4.72508893e-03, 4.65170153e-03, 2.74406829e-03,\n",
       "       9.15514430e-03, 2.49932329e-02, 8.21677037e-03, 1.99987548e-03,\n",
       "       3.32139726e-03, 1.44330107e-03, 5.04138421e-04, 1.21599098e-03,\n",
       "       2.06784313e-03, 1.42524533e-03, 1.61949154e-03, 1.98957495e-03,\n",
       "       5.17445571e-04, 3.69755508e-04, 5.99771748e-04, 3.67435891e-04])"
      ]
     },
     "execution_count": 100,
     "metadata": {},
     "output_type": "execute_result"
    }
   ],
   "source": [
    "mse_vec"
   ]
  },
  {
   "cell_type": "code",
   "execution_count": 111,
   "id": "68a1b7ed",
   "metadata": {},
   "outputs": [
    {
     "data": {
      "text/plain": [
       "<matplotlib.collections.PathCollection at 0x267d5234188>"
      ]
     },
     "execution_count": 111,
     "metadata": {},
     "output_type": "execute_result"
    },
    {
     "data": {
      "image/png": "[encoded data removed]",
      "text/plain": [
       "<Figure size 432x288 with 1 Axes>"
      ]
     },
     "metadata": {
      "needs_background": "light"
     },
     "output_type": "display_data"
    }
   ],
   "source": [
    "plt.scatter(size_,np.log(mse_vec))\n",
    "#plt.ylim([0, 0.04])\n",
    "#plt.yscale('log')"
   ]
  },
  {
   "cell_type": "code",
   "execution_count": null,
   "id": "e8cf8e0c",
   "metadata": {},
   "outputs": [],
   "source": []
  }
 ],
 "metadata": {
  "kernelspec": {
   "display_name": "Python 3 (ipykernel)",
   "language": "python",
   "name": "python3"
  },
  "language_info": {
   "codemirror_mode": {
    "name": "ipython",
    "version": 3
   },
   "file_extension": ".py",
   "mimetype": "text/x-python",
   "name": "python",
   "nbconvert_exporter": "python",
   "pygments_lexer": "ipython3",
   "version": "3.7.9"
  }
 },
 "nbformat": 4,
 "nbformat_minor": 5
}
