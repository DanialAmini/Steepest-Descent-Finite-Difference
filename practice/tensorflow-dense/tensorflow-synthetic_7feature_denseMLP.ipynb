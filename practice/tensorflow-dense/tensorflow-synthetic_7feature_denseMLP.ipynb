{
 "cells": [
  {
   "cell_type": "code",
   "execution_count": null,
   "metadata": {},
   "outputs": [],
   "source": [
    "#dani adds file to repo\n",
    "\n",
    "#I tried to recreate the step function used in the paper \n",
    "#(Deep Residual Learning for Nonlinear Regression. Entropy 2020, 22, 193.) \n",
    "#The data are created using random generator & python function, \n",
    "#so no need to load a csv file. I ran it for about 100k or 1mil rows instead of 10 mil to save time \n",
    "#because the result won't be too different (for 10 mil it takes about 25 minutes).\n",
    "\n",
    "#also this is a 7 feature synthetic data & fits a dense MLP to it."
   ]
  },
  {
   "cell_type": "code",
   "execution_count": 1,
   "metadata": {},
   "outputs": [
    {
     "name": "stdout",
     "output_type": "stream",
     "text": [
      "time to load libraries= 4.2 s\n"
     ]
    }
   ],
   "source": [
    "#kernel = .venv\n",
    "\n",
    "import time\n",
    "from time import time\n",
    "t0=time()\n",
    "\n",
    "import pandas as pd \n",
    "import numpy as np\n",
    "from tensorflow.keras import layers,models,callbacks,Sequential #should I remove?\n",
    "from tensorflow.keras.layers import Dense\n",
    "from sklearn.metrics import mean_squared_error\n",
    "import matplotlib.pyplot as plt\n",
    "\n",
    "t1=time()\n",
    "print('time to load libraries=',round(t1-t0,1),'s')"
   ]
  },
  {
   "cell_type": "code",
   "execution_count": null,
   "metadata": {},
   "outputs": [],
   "source": []
  },
  {
   "cell_type": "code",
   "execution_count": null,
   "metadata": {},
   "outputs": [],
   "source": []
  },
  {
   "cell_type": "code",
   "execution_count": null,
   "metadata": {},
   "outputs": [],
   "source": []
  },
  {
   "cell_type": "code",
   "execution_count": 2,
   "metadata": {},
   "outputs": [
    {
     "name": "stdout",
     "output_type": "stream",
     "text": [
      "time to generate synthetic data= 5.7 s\n"
     ]
    }
   ],
   "source": [
    "t1=time()\n",
    "\n",
    "#create synthetic data\n",
    "N_train=7500000\n",
    "N_test =2500000\n",
    "\n",
    "N_train=7500000\n",
    "N_test =2500000\n",
    "\n",
    "#number of attributes\n",
    "#nx_=7\n",
    "nx_=1 #25 minutes for the entire notebook\n",
    "\n",
    "x_train=np.random.rand(N_train,nx_) #train & test data are separately generated\n",
    "y_train=np.zeros(N_train)\n",
    "x_test=np.random.rand(N_test,nx_)\n",
    "y_test=np.zeros(N_test)\n",
    "\n",
    "\n",
    "#with vectorization\n",
    "def myfunc7(x):\n",
    "    y=np.zeros(len(x))\n",
    "    for i in range(7+1):\n",
    "        y=y+np.power(x[:,0]*4,i)\n",
    "    #a sort of step function\n",
    "    y=np.where(y>=1600,1600,np.where(y>=1200,1200,np.where(y>=800,800,np.where(y>=400,400,y))))/1600\n",
    "    #create multiplication & division of other columns\n",
    "    y=y+x[:,1]+np.power(x[:,2],2)+x[:,3]*x[:,4]+x[:,5]/(1+x[:,6])\n",
    "    return y\n",
    "\n",
    "#with vectorization\n",
    "def myfunc1(x):\n",
    "    y=np.zeros(len(x))\n",
    "    for i in range(7+1):\n",
    "        y=y+np.power(x[:,0]*4,i)\n",
    "    y=np.where(y>=1600,1600,np.where(y>=1200,1200,np.where(y>=800,800,np.where(y>=400,400,y))))/1600\n",
    "    return y\n",
    "\n",
    "\n",
    "\n",
    "#vfunc = np.vectorize(myfunc) #it actually hurts the performance\n",
    "\n",
    "if nx_==7:\n",
    "    y_train=myfunc7(x_train)\n",
    "    y_test=myfunc7(x_test)\n",
    "elif nx_==1:\n",
    "    y_train=myfunc1(x_train)\n",
    "    y_test=myfunc1(x_test)\n",
    "\n",
    "ymax=max(y_train)\n",
    "\n",
    "y_train=y_train/ymax #a very simple normalization\n",
    "y_test=y_test/ymax\n",
    "\n",
    "t2=time(); print('time to generate synthetic data=',round(t2-t1,1),'s'); t1=t2 "
   ]
  },
  {
   "cell_type": "code",
   "execution_count": null,
   "metadata": {},
   "outputs": [],
   "source": []
  },
  {
   "cell_type": "code",
   "execution_count": null,
   "metadata": {},
   "outputs": [],
   "source": []
  },
  {
   "cell_type": "code",
   "execution_count": 3,
   "metadata": {},
   "outputs": [],
   "source": [
    "###############tensorflow fully connected (dense) regression\n",
    "if 'model' in globals():\n",
    "    del model\n",
    "\n",
    "epoch_=50;\n",
    "batch_size_=5000 #bigger batch sizes are not good\n",
    "\n",
    "wid_=18;\t\tdep_=28;\t\tactivation_='relu';\t\t\t#MSE*1e4= 0.782 , time= 18:30\n",
    "\n",
    "model = Sequential()\n",
    "model.add(Dense(wid_, activation=activation_, kernel_initializer='he_normal', input_shape=(nx_,)))\n",
    "for i in range(dep_-1):\n",
    "    model.add(Dense(wid_, activation=activation_, kernel_initializer='he_normal'))\n",
    "model.add(Dense(1)) #linear activation function\n",
    "\n",
    "model.compile(optimizer='adam', loss='mse', metrics=['mse']) # compile the model"
   ]
  },
  {
   "cell_type": "code",
   "execution_count": null,
   "metadata": {},
   "outputs": [],
   "source": []
  },
  {
   "cell_type": "code",
   "execution_count": 4,
   "metadata": {},
   "outputs": [
    {
     "name": "stdout",
     "output_type": "stream",
     "text": [
      "Epoch 1/50\n",
      "1350/1350 - 30s - loss: 0.0023 - mse: 0.0023 - val_loss: 5.8414e-04 - val_mse: 5.8414e-04\n",
      "Epoch 2/50\n",
      "1350/1350 - 29s - loss: 6.3145e-04 - mse: 6.3145e-04 - val_loss: 5.6043e-04 - val_mse: 5.6043e-04\n",
      "Epoch 3/50\n",
      "1350/1350 - 29s - loss: 6.0060e-04 - mse: 6.0060e-04 - val_loss: 5.3545e-04 - val_mse: 5.3545e-04\n",
      "Epoch 4/50\n",
      "1350/1350 - 29s - loss: 5.4273e-04 - mse: 5.4273e-04 - val_loss: 5.0182e-04 - val_mse: 5.0182e-04\n",
      "Epoch 5/50\n",
      "1350/1350 - 28s - loss: 4.7695e-04 - mse: 4.7695e-04 - val_loss: 7.9196e-04 - val_mse: 7.9196e-04\n",
      "Epoch 6/50\n",
      "1350/1350 - 30s - loss: 4.4205e-04 - mse: 4.4205e-04 - val_loss: 8.9912e-04 - val_mse: 8.9912e-04\n",
      "Epoch 7/50\n",
      "1350/1350 - 31s - loss: 3.8446e-04 - mse: 3.8446e-04 - val_loss: 2.4365e-04 - val_mse: 2.4365e-04\n",
      "Epoch 8/50\n",
      "1350/1350 - 29s - loss: 3.0927e-04 - mse: 3.0927e-04 - val_loss: 1.4325e-04 - val_mse: 1.4325e-04\n",
      "Epoch 9/50\n",
      "1350/1350 - 30s - loss: 2.7949e-04 - mse: 2.7949e-04 - val_loss: 2.2325e-04 - val_mse: 2.2325e-04\n",
      "Epoch 10/50\n",
      "1350/1350 - 30s - loss: 2.7282e-04 - mse: 2.7282e-04 - val_loss: 3.1892e-04 - val_mse: 3.1892e-04\n",
      "Epoch 11/50\n",
      "1350/1350 - 29s - loss: 2.2970e-04 - mse: 2.2970e-04 - val_loss: 1.7095e-04 - val_mse: 1.7095e-04\n",
      "Epoch 12/50\n",
      "1350/1350 - 28s - loss: 2.5521e-04 - mse: 2.5521e-04 - val_loss: 9.8978e-05 - val_mse: 9.8978e-05\n",
      "Epoch 13/50\n",
      "1350/1350 - 29s - loss: 2.1477e-04 - mse: 2.1477e-04 - val_loss: 4.1356e-04 - val_mse: 4.1356e-04\n",
      "Epoch 14/50\n",
      "1350/1350 - 29s - loss: 2.0737e-04 - mse: 2.0737e-04 - val_loss: 8.7947e-05 - val_mse: 8.7947e-05\n",
      "Epoch 15/50\n",
      "1350/1350 - 29s - loss: 1.9467e-04 - mse: 1.9467e-04 - val_loss: 1.0798e-04 - val_mse: 1.0798e-04\n",
      "Epoch 16/50\n",
      "1350/1350 - 29s - loss: 1.9504e-04 - mse: 1.9504e-04 - val_loss: 3.4584e-04 - val_mse: 3.4584e-04\n",
      "Epoch 17/50\n",
      "1350/1350 - 30s - loss: 1.9449e-04 - mse: 1.9449e-04 - val_loss: 3.0088e-04 - val_mse: 3.0088e-04\n",
      "Epoch 18/50\n",
      "1350/1350 - 29s - loss: 1.7178e-04 - mse: 1.7178e-04 - val_loss: 6.3904e-05 - val_mse: 6.3904e-05\n",
      "Epoch 19/50\n",
      "1350/1350 - 28s - loss: 1.6620e-04 - mse: 1.6620e-04 - val_loss: 8.7126e-05 - val_mse: 8.7126e-05\n",
      "Epoch 20/50\n",
      "1350/1350 - 30s - loss: 1.5459e-04 - mse: 1.5459e-04 - val_loss: 2.9853e-04 - val_mse: 2.9853e-04\n",
      "Epoch 21/50\n",
      "1350/1350 - 29s - loss: 1.6724e-04 - mse: 1.6724e-04 - val_loss: 1.8967e-04 - val_mse: 1.8967e-04\n",
      "Epoch 22/50\n",
      "1350/1350 - 30s - loss: 1.7120e-04 - mse: 1.7120e-04 - val_loss: 6.7201e-05 - val_mse: 6.7201e-05\n",
      "Epoch 23/50\n",
      "1350/1350 - 29s - loss: 2.0080e-04 - mse: 2.0080e-04 - val_loss: 1.5554e-04 - val_mse: 1.5554e-04\n",
      "Epoch 24/50\n",
      "1350/1350 - 31s - loss: 1.6326e-04 - mse: 1.6326e-04 - val_loss: 8.1906e-05 - val_mse: 8.1906e-05\n",
      "Epoch 25/50\n",
      "1350/1350 - 32s - loss: 1.3890e-04 - mse: 1.3890e-04 - val_loss: 5.7276e-05 - val_mse: 5.7276e-05\n",
      "Epoch 26/50\n",
      "1350/1350 - 32s - loss: 1.3711e-04 - mse: 1.3711e-04 - val_loss: 2.8426e-04 - val_mse: 2.8426e-04\n",
      "Epoch 27/50\n",
      "1350/1350 - 33s - loss: 1.4129e-04 - mse: 1.4129e-04 - val_loss: 5.6842e-05 - val_mse: 5.6842e-05\n",
      "Epoch 28/50\n",
      "1350/1350 - 29s - loss: 1.3263e-04 - mse: 1.3263e-04 - val_loss: 3.8904e-04 - val_mse: 3.8904e-04\n",
      "Epoch 29/50\n",
      "1350/1350 - 28s - loss: 1.3518e-04 - mse: 1.3518e-04 - val_loss: 6.5621e-05 - val_mse: 6.5621e-05\n",
      "Epoch 30/50\n",
      "1350/1350 - 29s - loss: 1.2497e-04 - mse: 1.2497e-04 - val_loss: 5.4030e-05 - val_mse: 5.4030e-05\n",
      "Epoch 31/50\n",
      "1350/1350 - 29s - loss: 1.2462e-04 - mse: 1.2462e-04 - val_loss: 2.0838e-04 - val_mse: 2.0838e-04\n",
      "Epoch 32/50\n",
      "1350/1350 - 29s - loss: 1.2391e-04 - mse: 1.2391e-04 - val_loss: 5.4370e-04 - val_mse: 5.4370e-04\n",
      "Epoch 33/50\n",
      "1350/1350 - 29s - loss: 1.0829e-04 - mse: 1.0829e-04 - val_loss: 1.2021e-04 - val_mse: 1.2021e-04\n",
      "Epoch 34/50\n",
      "1350/1350 - 30s - loss: 1.2957e-04 - mse: 1.2957e-04 - val_loss: 7.1556e-05 - val_mse: 7.1556e-05\n",
      "Epoch 35/50\n",
      "1350/1350 - 30s - loss: 1.1051e-04 - mse: 1.1051e-04 - val_loss: 1.5007e-04 - val_mse: 1.5007e-04\n",
      "Epoch 36/50\n",
      "1350/1350 - 29s - loss: 1.0187e-04 - mse: 1.0187e-04 - val_loss: 4.3396e-05 - val_mse: 4.3396e-05\n",
      "Epoch 37/50\n",
      "1350/1350 - 29s - loss: 1.1097e-04 - mse: 1.1097e-04 - val_loss: 3.7467e-05 - val_mse: 3.7467e-05\n",
      "Epoch 38/50\n",
      "1350/1350 - 28s - loss: 1.0377e-04 - mse: 1.0377e-04 - val_loss: 6.9562e-05 - val_mse: 6.9562e-05\n",
      "Epoch 39/50\n",
      "1350/1350 - 28s - loss: 9.9412e-05 - mse: 9.9412e-05 - val_loss: 3.4123e-05 - val_mse: 3.4123e-05\n",
      "Epoch 40/50\n",
      "1350/1350 - 28s - loss: 9.4197e-05 - mse: 9.4197e-05 - val_loss: 5.9615e-05 - val_mse: 5.9615e-05\n",
      "Epoch 41/50\n",
      "1350/1350 - 28s - loss: 9.3976e-05 - mse: 9.3976e-05 - val_loss: 5.0852e-05 - val_mse: 5.0852e-05\n",
      "Epoch 42/50\n",
      "1350/1350 - 31s - loss: 9.6127e-05 - mse: 9.6127e-05 - val_loss: 1.3239e-04 - val_mse: 1.3239e-04\n",
      "Epoch 43/50\n",
      "1350/1350 - 29s - loss: 1.0368e-04 - mse: 1.0368e-04 - val_loss: 5.3697e-05 - val_mse: 5.3697e-05\n",
      "Epoch 44/50\n",
      "1350/1350 - 29s - loss: 9.6915e-05 - mse: 9.6915e-05 - val_loss: 3.6474e-05 - val_mse: 3.6474e-05\n",
      "Epoch 45/50\n",
      "1350/1350 - 30s - loss: 9.4230e-05 - mse: 9.4230e-05 - val_loss: 5.1353e-05 - val_mse: 5.1353e-05\n",
      "Epoch 46/50\n",
      "1350/1350 - 30s - loss: 1.0310e-04 - mse: 1.0310e-04 - val_loss: 6.9155e-05 - val_mse: 6.9155e-05\n",
      "Epoch 47/50\n",
      "1350/1350 - 29s - loss: 9.2989e-05 - mse: 9.2989e-05 - val_loss: 3.2190e-04 - val_mse: 3.2190e-04\n",
      "Epoch 48/50\n",
      "1350/1350 - 29s - loss: 9.3657e-05 - mse: 9.3657e-05 - val_loss: 5.1793e-05 - val_mse: 5.1793e-05\n",
      "Epoch 49/50\n",
      "1350/1350 - 30s - loss: 9.4932e-05 - mse: 9.4932e-05 - val_loss: 7.9609e-05 - val_mse: 7.9609e-05\n",
      "Epoch 00049: early stopping\n",
      "\n",
      "time to train= 24:4\n"
     ]
    }
   ],
   "source": [
    "t1=time()\n",
    "\n",
    "# fit the model\n",
    "model.fit(x_train, y_train, epochs=epoch_, batch_size=batch_size_, verbose=2, validation_split=0.1,\n",
    "          callbacks=[callbacks.EarlyStopping(monitor='val_loss', patience=10,verbose=2, mode='auto')])\n",
    "\n",
    "t2=time(); tt=t2-t1; tminute=tt//60; tsec=tt-tminute*60; print('\\r\\ntime to train= ',int(tminute),':',int(tsec),sep=''); t1=t2"
   ]
  },
  {
   "cell_type": "code",
   "execution_count": 5,
   "metadata": {},
   "outputs": [
    {
     "name": "stdout",
     "output_type": "stream",
     "text": [
      "8/8 [==============================] - 5s 672ms/step - loss: 7.9773e-05 - mse: 7.9773e-05\n",
      "#MSE * 1e4 =  0.796\n",
      "\n",
      "time for prediction (inference)= 9.1 s\n"
     ]
    }
   ],
   "source": [
    "t1=time()\n",
    "\n",
    "# evaluate the model\n",
    "error = model.evaluate(x_train, y_train, verbose=1, batch_size=min(1000000,len(x_train)))\n",
    "\n",
    "# make a prediction\n",
    "y_test_hat = model.predict(x_test, batch_size=min(1000000,len(x_train)))\n",
    "\n",
    "mse = mean_squared_error(y_test,y_test_hat)\n",
    "print('#MSE * 1e4 = ', round(mse*1e4,3))\n",
    "\n",
    "t2=time(); print('\\r\\ntime for prediction (inference)=',round(t2-t1,1),'s'); t1=t2"
   ]
  },
  {
   "cell_type": "code",
   "execution_count": null,
   "metadata": {},
   "outputs": [],
   "source": []
  },
  {
   "cell_type": "code",
   "execution_count": null,
   "metadata": {},
   "outputs": [],
   "source": []
  },
  {
   "cell_type": "code",
   "execution_count": 6,
   "metadata": {},
   "outputs": [
    {
     "name": "stdout",
     "output_type": "stream",
     "text": [
      "\r\n",
      "time for prediction (inference)= 1.0 s\n"
     ]
    },
    {
     "data": {
      "image/png": "[encoded data removed]",
      "text/plain": [
       "<Figure size 432x288 with 1 Axes>"
      ]
     },
     "metadata": {
      "needs_background": "light"
     },
     "output_type": "display_data"
    }
   ],
   "source": [
    "t1=time()\n",
    "#plotting the results\n",
    "ind_test=np.argsort(y_test)\n",
    "\n",
    "plt.plot(np.arange(len(y_test))/len(y_test),y_test[ind_test], label='exact',zorder=2,color='red')\n",
    "\n",
    "plt.scatter(np.arange(len(y_test))/len(y_test),y_test_hat[ind_test], \n",
    "            label='tensorflow-mse='+str(round(mse*1e4,2)),marker='o',s=0.1,zorder=1)\n",
    "\n",
    "plt.legend(loc='upper center', bbox_to_anchor=(0.5, -0.1),fancybox=True, shadow=True, ncol=5)\n",
    "t2=time(); print('\\r\\ntime for prediction (inference)=',round(t2-t1,1),'s'); t1=t2"
   ]
  },
  {
   "cell_type": "code",
   "execution_count": 27,
   "metadata": {},
   "outputs": [
    {
     "data": {
      "text/plain": [
       "<matplotlib.legend.Legend at 0x18bc7ecd208>"
      ]
     },
     "execution_count": 27,
     "metadata": {},
     "output_type": "execute_result"
    },
    {
     "data": {
      "image/png": "[encoded data removed]",
      "text/plain": [
       "<Figure size 432x288 with 1 Axes>"
      ]
     },
     "metadata": {
      "needs_background": "light"
     },
     "output_type": "display_data"
    }
   ],
   "source": [
    "plt.scatter(np.arange(200),y_test[0:200], label='exact',zorder=2,marker='o', facecolors='none', edgecolor='red')\n",
    "plt.scatter(np.arange(200),y_test_hat[0:200], \n",
    "            label='tensorflow-mse='+str(round(mse*1e4,2)),marker='x',zorder=1)\n",
    "\n",
    "plt.legend(loc='upper center', bbox_to_anchor=(0.5, -0.1),fancybox=True, shadow=True, ncol=5)\n"
   ]
  },
  {
   "cell_type": "code",
   "execution_count": null,
   "metadata": {},
   "outputs": [],
   "source": []
  },
  {
   "cell_type": "code",
   "execution_count": null,
   "metadata": {},
   "outputs": [],
   "source": []
  },
  {
   "cell_type": "code",
   "execution_count": null,
   "metadata": {},
   "outputs": [],
   "source": []
  },
  {
   "cell_type": "code",
   "execution_count": null,
   "metadata": {},
   "outputs": [],
   "source": []
  },
  {
   "cell_type": "code",
   "execution_count": null,
   "metadata": {},
   "outputs": [],
   "source": []
  },
  {
   "cell_type": "code",
   "execution_count": 7,
   "metadata": {},
   "outputs": [
    {
     "name": "stdout",
     "output_type": "stream",
     "text": [
      "max difference with prediction of keras= [0.00011524]\n",
      "\r\n",
      "time for prediction (inference)= 25.9 s\n"
     ]
    }
   ],
   "source": [
    "t1=time()\n",
    "#calculate outputs using coef_\n",
    "coef_=model.get_weights()\n",
    "\n",
    "#calculate outputs using\n",
    "temp_=x_test\n",
    "for i in range(dep_+1):\n",
    "    temp_=np.matmul(temp_,coef_[2*i])+coef_[2*i+1]\n",
    "    if i<dep_: #output layer has identity activation function\n",
    "        temp_[temp_<0] =0 #fancy index implementation of RelU function \n",
    "\n",
    "print('max difference with prediction of keras=',\n",
    "      max(abs(y_test_hat-temp_))) #difference between outputs calculated by keras & matmul\n",
    "t2=time(); print('\\r\\ntime for prediction (inference)=',round(t2-t1,1),'s'); t1=t2"
   ]
  },
  {
   "cell_type": "code",
   "execution_count": 8,
   "metadata": {},
   "outputs": [],
   "source": [
    "#I don't know why there is a difference, although it's not a very big one"
   ]
  },
  {
   "cell_type": "code",
   "execution_count": null,
   "metadata": {},
   "outputs": [],
   "source": []
  },
  {
   "cell_type": "code",
   "execution_count": null,
   "metadata": {},
   "outputs": [],
   "source": []
  },
  {
   "cell_type": "code",
   "execution_count": 9,
   "metadata": {},
   "outputs": [
    {
     "name": "stdout",
     "output_type": "stream",
     "text": [
      "\r\n",
      "time for prediction (inference)= 0.1 s\n"
     ]
    }
   ],
   "source": [
    "t1=time()\n",
    "#printing coefficients to file \n",
    "file_name_weights_=\"NN_synthetic_7feature_\"\n",
    "\n",
    "\n",
    "#save coefficients to file\n",
    "#format:\n",
    "#0    1   2 3 4\n",
    "#value,wb,i,j,k\n",
    "#value=value of weight or bias\n",
    "#wb=0 for weight, 1 for bias\n",
    "#i = layer number\n",
    "#j = node number in layer i\n",
    "#k = node number in layer i+1\n",
    "file = open(file_name_weights_+\"weights.csv\", \"w\") \n",
    "file.write(\"value,b1w0_,i_,j_,k_\\n\")\n",
    "\n",
    "for i in range(dep_+1):\n",
    "    temp_=model.layers[i].get_weights()[0]\n",
    "    Nj=len(temp_)\n",
    "    Nk=len(temp_[0])\n",
    "    for j in range(Nj):\n",
    "        for k in range(Nk):\n",
    "            file.write(str(temp_[j][k])+\",0,\"+str(i)+\",\"+str(j)+\",\"+str(k)+\"\\n\")\n",
    "    temp_=model.layers[i].get_weights()[1]\n",
    "    Nk=len(temp_)\n",
    "    for k in range(Nk):\n",
    "        file.write(str(temp_[k])+\",1,\"+str(i)+\",0,\"+str(k)+\"\\n\")\n",
    "file.close()\n",
    "del temp_,i,j,k,Nj,Nk\n",
    "\n",
    "\n",
    "#save architecture to file\n",
    "#format: \n",
    "#i,Nj,Nk\n",
    "#i=layer number, \n",
    "#Nj=number of nodes in layer i\n",
    "#Nk=number of nodes in layer i+1\n",
    "file = open(file_name_weights_+\"dense_layers.csv\", \"w\") \n",
    "file.write(\"i,Nj,Nk\\n\")\n",
    "\n",
    "for i in range(dep_+1):\n",
    "    temp_=model.layers[i].get_weights()[0]\n",
    "    Nj=len(temp_)\n",
    "    Nk=len(temp_[0])\n",
    "    file.write(str(i)+\",\"+str(Nj)+\",\"+str(Nk)+\"\\n\")\n",
    "file.close()\n",
    "del temp_,i,Nj,Nk\n",
    "\n",
    "t2=time(); print('\\r\\ntime for prediction (inference)=',round(t2-t1,1),'s'); t1=t2"
   ]
  },
  {
   "cell_type": "code",
   "execution_count": null,
   "metadata": {},
   "outputs": [],
   "source": []
  },
  {
   "cell_type": "code",
   "execution_count": null,
   "metadata": {},
   "outputs": [],
   "source": []
  },
  {
   "cell_type": "code",
   "execution_count": 10,
   "metadata": {},
   "outputs": [
    {
     "name": "stdout",
     "output_type": "stream",
     "text": [
      "\r\n",
      "time for prediction (inference)= 0.1 s\n"
     ]
    }
   ],
   "source": [
    "t1=time()\n",
    "#read coefficients from file to variable 'coefs_'\n",
    "\n",
    "architecture_ = np.array(pd.read_csv(file_name_weights_+\"dense_layers.csv\") )\n",
    "coefs_flat_=np.array(pd.read_csv(file_name_weights_+\"weights.csv\") )\n",
    "Ni=len(architecture_)\n",
    "\n",
    "#coefs_=[[np.zeros((architecture_[i,1],architecture_[i,2])),np.zeros(architecture_[i,2]) ] for i in range(Ni)]\n",
    "coefs_=[[] for i in range(Ni*2)]\n",
    "for i in range(Ni):\n",
    "    coefs_[2*i]=np.zeros((architecture_[i,1],architecture_[i,2]))\n",
    "    coefs_[2*i+1]=np.zeros(architecture_[i,2])\n",
    "#\n",
    "\n",
    "\n",
    "for ii in range(len(coefs_flat_)):\n",
    "    i=int(coefs_flat_[ii,2])\n",
    "    j=int(coefs_flat_[ii,3])\n",
    "    k=int(coefs_flat_[ii,4])\n",
    "    wb=int(coefs_flat_[ii,1])\n",
    "    val_=coefs_flat_[ii,0]\n",
    "    if wb==0:\n",
    "        coefs_[2*i][j,k]=val_\n",
    "    if wb==1:\n",
    "        coefs_[2*i+1][k]=val_\n",
    "\n",
    "t2=time(); print('\\r\\ntime for prediction (inference)=',round(t2-t1,1),'s'); t1=t2"
   ]
  },
  {
   "cell_type": "code",
   "execution_count": null,
   "metadata": {},
   "outputs": [],
   "source": []
  },
  {
   "cell_type": "code",
   "execution_count": null,
   "metadata": {},
   "outputs": [],
   "source": []
  },
  {
   "cell_type": "code",
   "execution_count": null,
   "metadata": {},
   "outputs": [],
   "source": []
  },
  {
   "cell_type": "code",
   "execution_count": 11,
   "metadata": {},
   "outputs": [
    {
     "name": "stdout",
     "output_type": "stream",
     "text": [
      "max difference with prediction of keras= [9.10604018e-05]\n",
      "\r\n",
      "time for prediction (inference)= 25.3 s\n"
     ]
    }
   ],
   "source": [
    "t1=time()\n",
    "#calculate outputs using coefs_\n",
    "temp_=x_test\n",
    "for i in range(dep_+1):\n",
    "    temp_=np.matmul(temp_,coefs_[2*i])+coefs_[2*i+1]\n",
    "    if i<dep_: #output layer has identity activation function\n",
    "        temp_[temp_<0] =0 #fancy index implementation of RelU function \n",
    "\n",
    "print('max difference with prediction of keras=',\n",
    "      max(abs(y_test_hat-temp_))) #difference between outputs calculated by keras & matmul\n",
    "\n",
    "t2=time(); print('\\r\\ntime for prediction (inference)=',round(t2-t1,1),'s'); t1=t2"
   ]
  },
  {
   "cell_type": "code",
   "execution_count": 12,
   "metadata": {},
   "outputs": [],
   "source": [
    "#the read-write files does work with 1 input "
   ]
  }
 ],
 "metadata": {
  "kernelspec": {
   "display_name": ".venv",
   "language": "python",
   "name": ".venv"
  },
  "language_info": {
   "codemirror_mode": {
    "name": "ipython",
    "version": 3
   },
   "file_extension": ".py",
   "mimetype": "text/x-python",
   "name": "python",
   "nbconvert_exporter": "python",
   "pygments_lexer": "ipython3",
   "version": "3.7.8"
  }
 },
 "nbformat": 4,
 "nbformat_minor": 4
}
