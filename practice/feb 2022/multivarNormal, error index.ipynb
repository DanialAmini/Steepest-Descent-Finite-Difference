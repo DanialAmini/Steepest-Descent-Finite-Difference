{
 "cells": [
  {
   "cell_type": "code",
   "execution_count": 193,
   "id": "4d863579",
   "metadata": {},
   "outputs": [
    {
     "data": {
      "text/plain": [
       "2"
      ]
     },
     "execution_count": 193,
     "metadata": {},
     "output_type": "execute_result"
    }
   ],
   "source": [
    "1+1"
   ]
  },
  {
   "cell_type": "code",
   "execution_count": null,
   "id": "4682d33b",
   "metadata": {},
   "outputs": [],
   "source": []
  },
  {
   "cell_type": "code",
   "execution_count": 194,
   "id": "b6acd105",
   "metadata": {},
   "outputs": [
    {
     "name": "stdout",
     "output_type": "stream",
     "text": [
      "d is 3x100 matrix\n"
     ]
    },
    {
     "data": {
      "text/html": [
       "<div>\n",
       "<style scoped>\n",
       "    .dataframe tbody tr th:only-of-type {\n",
       "        vertical-align: middle;\n",
       "    }\n",
       "\n",
       "    .dataframe tbody tr th {\n",
       "        vertical-align: top;\n",
       "    }\n",
       "\n",
       "    .dataframe thead th {\n",
       "        text-align: right;\n",
       "    }\n",
       "</style>\n",
       "<table border=\"1\" class=\"dataframe\">\n",
       "  <thead>\n",
       "    <tr style=\"text-align: right;\">\n",
       "      <th></th>\n",
       "      <th>0</th>\n",
       "      <th>1</th>\n",
       "      <th>2</th>\n",
       "    </tr>\n",
       "  </thead>\n",
       "  <tbody>\n",
       "    <tr>\n",
       "      <th>0</th>\n",
       "      <td>2.552972</td>\n",
       "      <td>4.727314</td>\n",
       "      <td>4.204594</td>\n",
       "    </tr>\n",
       "    <tr>\n",
       "      <th>1</th>\n",
       "      <td>1.027626</td>\n",
       "      <td>2.033584</td>\n",
       "      <td>2.610559</td>\n",
       "    </tr>\n",
       "    <tr>\n",
       "      <th>2</th>\n",
       "      <td>1.136210</td>\n",
       "      <td>1.800366</td>\n",
       "      <td>3.133444</td>\n",
       "    </tr>\n",
       "    <tr>\n",
       "      <th>3</th>\n",
       "      <td>1.174886</td>\n",
       "      <td>3.228746</td>\n",
       "      <td>4.788809</td>\n",
       "    </tr>\n",
       "    <tr>\n",
       "      <th>4</th>\n",
       "      <td>0.279460</td>\n",
       "      <td>2.329581</td>\n",
       "      <td>3.806934</td>\n",
       "    </tr>\n",
       "    <tr>\n",
       "      <th>...</th>\n",
       "      <td>...</td>\n",
       "      <td>...</td>\n",
       "      <td>...</td>\n",
       "    </tr>\n",
       "    <tr>\n",
       "      <th>9995</th>\n",
       "      <td>0.473246</td>\n",
       "      <td>2.878701</td>\n",
       "      <td>3.396422</td>\n",
       "    </tr>\n",
       "    <tr>\n",
       "      <th>9996</th>\n",
       "      <td>1.380083</td>\n",
       "      <td>0.719118</td>\n",
       "      <td>3.288313</td>\n",
       "    </tr>\n",
       "    <tr>\n",
       "      <th>9997</th>\n",
       "      <td>1.746953</td>\n",
       "      <td>1.817391</td>\n",
       "      <td>2.645684</td>\n",
       "    </tr>\n",
       "    <tr>\n",
       "      <th>9998</th>\n",
       "      <td>1.351511</td>\n",
       "      <td>2.942527</td>\n",
       "      <td>2.207201</td>\n",
       "    </tr>\n",
       "    <tr>\n",
       "      <th>9999</th>\n",
       "      <td>-0.485367</td>\n",
       "      <td>3.268336</td>\n",
       "      <td>3.919042</td>\n",
       "    </tr>\n",
       "  </tbody>\n",
       "</table>\n",
       "<p>10000 rows × 3 columns</p>\n",
       "</div>"
      ],
      "text/plain": [
       "             0         1         2\n",
       "0     2.552972  4.727314  4.204594\n",
       "1     1.027626  2.033584  2.610559\n",
       "2     1.136210  1.800366  3.133444\n",
       "3     1.174886  3.228746  4.788809\n",
       "4     0.279460  2.329581  3.806934\n",
       "...        ...       ...       ...\n",
       "9995  0.473246  2.878701  3.396422\n",
       "9996  1.380083  0.719118  3.288313\n",
       "9997  1.746953  1.817391  2.645684\n",
       "9998  1.351511  2.942527  2.207201\n",
       "9999 -0.485367  3.268336  3.919042\n",
       "\n",
       "[10000 rows x 3 columns]"
      ]
     },
     "metadata": {},
     "output_type": "display_data"
    },
    {
     "name": "stdout",
     "output_type": "stream",
     "text": [
      "covariance matrix\n"
     ]
    },
    {
     "data": {
      "text/html": [
       "<div>\n",
       "<style scoped>\n",
       "    .dataframe tbody tr th:only-of-type {\n",
       "        vertical-align: middle;\n",
       "    }\n",
       "\n",
       "    .dataframe tbody tr th {\n",
       "        vertical-align: top;\n",
       "    }\n",
       "\n",
       "    .dataframe thead th {\n",
       "        text-align: right;\n",
       "    }\n",
       "</style>\n",
       "<table border=\"1\" class=\"dataframe\">\n",
       "  <thead>\n",
       "    <tr style=\"text-align: right;\">\n",
       "      <th></th>\n",
       "      <th>0</th>\n",
       "      <th>1</th>\n",
       "      <th>2</th>\n",
       "    </tr>\n",
       "  </thead>\n",
       "  <tbody>\n",
       "    <tr>\n",
       "      <th>0</th>\n",
       "      <td>0.987237</td>\n",
       "      <td>0.297405</td>\n",
       "      <td>0.208157</td>\n",
       "    </tr>\n",
       "    <tr>\n",
       "      <th>1</th>\n",
       "      <td>0.297405</td>\n",
       "      <td>0.968468</td>\n",
       "      <td>0.485784</td>\n",
       "    </tr>\n",
       "    <tr>\n",
       "      <th>2</th>\n",
       "      <td>0.208157</td>\n",
       "      <td>0.485784</td>\n",
       "      <td>0.993395</td>\n",
       "    </tr>\n",
       "  </tbody>\n",
       "</table>\n",
       "</div>"
      ],
      "text/plain": [
       "          0         1         2\n",
       "0  0.987237  0.297405  0.208157\n",
       "1  0.297405  0.968468  0.485784\n",
       "2  0.208157  0.485784  0.993395"
      ]
     },
     "metadata": {},
     "output_type": "display_data"
    },
    {
     "name": "stdout",
     "output_type": "stream",
     "text": [
      "d0 0.986098153271517 0.9935482155310884\n",
      "d1 1.9962105272689936 0.9840584423582242\n",
      "d2 1.9962105272689936 0.9840584423582242\n",
      "corelation matrix\n"
     ]
    },
    {
     "data": {
      "text/html": [
       "<div>\n",
       "<style scoped>\n",
       "    .dataframe tbody tr th:only-of-type {\n",
       "        vertical-align: middle;\n",
       "    }\n",
       "\n",
       "    .dataframe tbody tr th {\n",
       "        vertical-align: top;\n",
       "    }\n",
       "\n",
       "    .dataframe thead th {\n",
       "        text-align: right;\n",
       "    }\n",
       "</style>\n",
       "<table border=\"1\" class=\"dataframe\">\n",
       "  <thead>\n",
       "    <tr style=\"text-align: right;\">\n",
       "      <th></th>\n",
       "      <th>0</th>\n",
       "      <th>1</th>\n",
       "      <th>2</th>\n",
       "    </tr>\n",
       "  </thead>\n",
       "  <tbody>\n",
       "    <tr>\n",
       "      <th>0</th>\n",
       "      <td>1.000000</td>\n",
       "      <td>0.304155</td>\n",
       "      <td>0.210194</td>\n",
       "    </tr>\n",
       "    <tr>\n",
       "      <th>1</th>\n",
       "      <td>0.304155</td>\n",
       "      <td>1.000000</td>\n",
       "      <td>0.495267</td>\n",
       "    </tr>\n",
       "    <tr>\n",
       "      <th>2</th>\n",
       "      <td>0.210194</td>\n",
       "      <td>0.495267</td>\n",
       "      <td>1.000000</td>\n",
       "    </tr>\n",
       "  </tbody>\n",
       "</table>\n",
       "</div>"
      ],
      "text/plain": [
       "          0         1         2\n",
       "0  1.000000  0.304155  0.210194\n",
       "1  0.304155  1.000000  0.495267\n",
       "2  0.210194  0.495267  1.000000"
      ]
     },
     "metadata": {},
     "output_type": "display_data"
    }
   ],
   "source": [
    "%reset -f\n",
    "\n",
    "import numpy as np\n",
    "import pandas as pd\n",
    "import matplotlib.pyplot as plt\n",
    "import sklearn.metrics as metrics\n",
    "import hydroeval\n",
    "\n",
    "b=[1,2,3,]\n",
    "c=[1,1,1]\n",
    "a=[[1,0.3,0.2]\n",
    "   ,[0.3,1,0.5]\n",
    "   ,[0.2,0.5,1]]\n",
    "\n",
    "\n",
    "Nx=10000\n",
    "np.random.normal([b,c],Nx)\n",
    "\n",
    "d=np.random.multivariate_normal(b,a,Nx)\n",
    "\n",
    "print('d is 3x100 matrix')\n",
    "display(pd.DataFrame(d))\n",
    "\n",
    "cov_mat=np.cov(d,rowvar=False)\n",
    "print('covariance matrix')\n",
    "display(pd.DataFrame(cov_mat))\n",
    "\n",
    "d0=d[:,0]\n",
    "d1=d[:,1]\n",
    "d2=d[:,2]\n",
    "\n",
    "print('d0',np.mean(d0),np.std(d0))\n",
    "print('d1',np.mean(d1),np.std(d1))\n",
    "print('d2',np.mean(d1),np.std(d1))\n",
    "\n",
    "np.corrcoef(d0,d2)\n",
    "cor_mat=np.corrcoef(d,rowvar=False)\n",
    "print('corelation matrix')\n",
    "display(pd.DataFrame(cor_mat))"
   ]
  },
  {
   "cell_type": "code",
   "execution_count": null,
   "id": "56177496",
   "metadata": {},
   "outputs": [],
   "source": []
  },
  {
   "cell_type": "code",
   "execution_count": null,
   "id": "9e4a18a6",
   "metadata": {},
   "outputs": [],
   "source": []
  },
  {
   "cell_type": "code",
   "execution_count": 195,
   "id": "14a26614",
   "metadata": {},
   "outputs": [
    {
     "name": "stdout",
     "output_type": "stream",
     "text": [
      "correlation y1 & y2= 0.9184073713862994\n"
     ]
    },
    {
     "data": {
      "text/plain": [
       "[<matplotlib.lines.Line2D at 0x19217a07970>]"
      ]
     },
     "execution_count": 195,
     "metadata": {},
     "output_type": "execute_result"
    },
    {
     "data": {
      "image/png": "[encoded data removed]",
      "text/plain": [
       "<Figure size 432x288 with 1 Axes>"
      ]
     },
     "metadata": {
      "needs_background": "light"
     },
     "output_type": "display_data"
    }
   ],
   "source": [
    "x=np.random.rand(Nx)\n",
    "x=np.arange(Nx)/Nx\n",
    "y1=1+x+0.2*x*x+np.abs(x-0.5)\n",
    "y2=0.7+2*x+0.5/(x+1)\n",
    "\n",
    "corr_y1y2=np.corrcoef(y1,y2)[0,1]\n",
    "print('correlation y1 & y2=',corr_y1y2)\n",
    "\n",
    "#plt.scatter(y1,y2)\n",
    "plt.plot(x,y1)\n",
    "plt.plot(x,y2)\n",
    "\n"
   ]
  },
  {
   "cell_type": "code",
   "execution_count": null,
   "id": "786eb055",
   "metadata": {},
   "outputs": [],
   "source": []
  },
  {
   "cell_type": "code",
   "execution_count": null,
   "id": "436cf86d",
   "metadata": {},
   "outputs": [],
   "source": []
  },
  {
   "cell_type": "code",
   "execution_count": 196,
   "id": "95211edc",
   "metadata": {},
   "outputs": [
    {
     "name": "stdout",
     "output_type": "stream",
     "text": [
      "R^2 0.3059167102440623\n"
     ]
    },
    {
     "data": {
      "text/html": [
       "<div>\n",
       "<style scoped>\n",
       "    .dataframe tbody tr th:only-of-type {\n",
       "        vertical-align: middle;\n",
       "    }\n",
       "\n",
       "    .dataframe tbody tr th {\n",
       "        vertical-align: top;\n",
       "    }\n",
       "\n",
       "    .dataframe thead th {\n",
       "        text-align: right;\n",
       "    }\n",
       "</style>\n",
       "<table border=\"1\" class=\"dataframe\">\n",
       "  <thead>\n",
       "    <tr style=\"text-align: right;\">\n",
       "      <th></th>\n",
       "      <th>model linear</th>\n",
       "    </tr>\n",
       "  </thead>\n",
       "  <tbody>\n",
       "    <tr>\n",
       "      <th>max err</th>\n",
       "      <td>0.483333</td>\n",
       "    </tr>\n",
       "    <tr>\n",
       "      <th>MAE</th>\n",
       "      <td>0.288702</td>\n",
       "    </tr>\n",
       "    <tr>\n",
       "      <th>RMSE</th>\n",
       "      <td>0.100773</td>\n",
       "    </tr>\n",
       "    <tr>\n",
       "      <th>MSElog</th>\n",
       "      <td>0.011400</td>\n",
       "    </tr>\n",
       "    <tr>\n",
       "      <th>median abs err</th>\n",
       "      <td>0.306894</td>\n",
       "    </tr>\n",
       "    <tr>\n",
       "      <th>mean Abs%err</th>\n",
       "      <td>0.160208</td>\n",
       "    </tr>\n",
       "    <tr>\n",
       "      <th>Nash-Sutcliffe Efficiency (NSE)</th>\n",
       "      <td>0.610576</td>\n",
       "    </tr>\n",
       "    <tr>\n",
       "      <th>bias %</th>\n",
       "      <td>11.232885</td>\n",
       "    </tr>\n",
       "    <tr>\n",
       "      <th>mean abs rel err (MARE)</th>\n",
       "      <td>0.141072</td>\n",
       "    </tr>\n",
       "    <tr>\n",
       "      <th>explained variance score</th>\n",
       "      <td>0.669889</td>\n",
       "    </tr>\n",
       "  </tbody>\n",
       "</table>\n",
       "</div>"
      ],
      "text/plain": [
       "                                 model linear\n",
       "max err                              0.483333\n",
       "MAE                                  0.288702\n",
       "RMSE                                 0.100773\n",
       "MSElog                               0.011400\n",
       "median abs err                       0.306894\n",
       "mean Abs%err                         0.160208\n",
       "Nash-Sutcliffe Efficiency (NSE)      0.610576\n",
       "bias %                              11.232885\n",
       "mean abs rel err (MARE)              0.141072\n",
       "explained variance score             0.669889"
      ]
     },
     "metadata": {},
     "output_type": "display_data"
    }
   ],
   "source": [
    "err_R2=metrics.r2_score(y1,y2)\n",
    "err_explain_var=metrics.explained_variance_score(y1,y2)\n",
    "err_max=metrics.max_error(y1,y2)\n",
    "err_MAE=metrics.mean_absolute_error(y1,y2)\n",
    "err_MSE=metrics.mean_squared_error(y1,y2)\n",
    "err_RMSE=metrics.mean_squared_error(y1,y2,squared=True)\n",
    "err_MSElog=metrics.mean_squared_log_error(y1,y2)\n",
    "err_index2=metrics.median_absolute_error(y1,y2)\n",
    "err_index5=metrics.mean_absolute_percentage_error(y1,y2)\n",
    "err_NashSutt=hydroeval.nse(y1,y2)\n",
    "err_bias_percent=hydroeval.pbias(y1,y2)\n",
    "err_MeanAbsRelErr=hydroeval.mare(y1,y2)\n",
    "\n",
    "\n",
    "print('R^2',err_R2)\n",
    "\n",
    "\n",
    "err_table=[\n",
    "            ['max err',err_max]\n",
    "           ,['MAE',err_MAE]\n",
    "           ,['RMSE',err_RMSE]\n",
    "           ,['MSElog',err_MSElog]\n",
    "           ,['median abs err',err_index2]\n",
    "           ,['mean Abs%err',err_index5]\n",
    "           ,['Nash-Sutcliffe Efficiency (NSE)',err_NashSutt]\n",
    "           ,['bias %',err_bias_percent]\n",
    "           ,['mean abs rel err (MARE)',err_MeanAbsRelErr]\n",
    "           ,['explained variance score',err_explain_var]\n",
    "          ]\n",
    "\n",
    "err_val=[err_table[i][1] for i in range(len(err_table))]\n",
    "\n",
    "df1=pd.DataFrame(err_val)\n",
    "\n",
    "df1.index=[err_table[i][0] for i in range(len(err_table))]\n",
    "\n",
    "df1.columns = ['model linear']\n",
    "display(df1)\n",
    "\n"
   ]
  },
  {
   "cell_type": "code",
   "execution_count": null,
   "id": "388dd4da",
   "metadata": {},
   "outputs": [],
   "source": []
  },
  {
   "cell_type": "code",
   "execution_count": null,
   "id": "25080643",
   "metadata": {},
   "outputs": [],
   "source": []
  },
  {
   "cell_type": "code",
   "execution_count": null,
   "id": "7dfe137b",
   "metadata": {},
   "outputs": [],
   "source": []
  },
  {
   "cell_type": "code",
   "execution_count": null,
   "id": "c3baf4bf",
   "metadata": {},
   "outputs": [],
   "source": []
  },
  {
   "cell_type": "code",
   "execution_count": null,
   "id": "50f142d6",
   "metadata": {},
   "outputs": [],
   "source": []
  },
  {
   "cell_type": "code",
   "execution_count": null,
   "id": "f25b1992",
   "metadata": {},
   "outputs": [],
   "source": []
  }
 ],
 "metadata": {
  "kernelspec": {
   "display_name": "Python 3 (ipykernel)",
   "language": "python",
   "name": "python3"
  },
  "language_info": {
   "codemirror_mode": {
    "name": "ipython",
    "version": 3
   },
   "file_extension": ".py",
   "mimetype": "text/x-python",
   "name": "python",
   "nbconvert_exporter": "python",
   "pygments_lexer": "ipython3",
   "version": "3.10.2"
  }
 },
 "nbformat": 4,
 "nbformat_minor": 5
}
